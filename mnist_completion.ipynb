{
 "cells": [
  {
   "cell_type": "markdown",
   "metadata": {},
   "source": [
    "# MNIST Image Completion\n",
    "\n",
    "In this notebook we train a neural process to complete MNIST images from individual pixel observations, recreating experiment 4.2 from the paper."
   ]
  },
  {
   "cell_type": "code",
   "execution_count": 1,
   "metadata": {},
   "outputs": [],
   "source": [
    "import os\n",
    "\n",
    "import numpy as np\n",
    "import matplotlib.pyplot as pp\n",
    "import torch\n",
    "import torch.nn as nn\n",
    "import torch.nn.functional as F\n",
    "import torch.optim as optim\n",
    "import torchvision\n",
    "\n",
    "from neural_process import NeuralProcess, log_likelihood\n",
    "\n",
    "%matplotlib inline"
   ]
  },
  {
   "cell_type": "markdown",
   "metadata": {},
   "source": [
    "In the following cells we define the three exchangeable parts of a neural process as neural networks. The encoder encodes $(x, y)$ pairs into a kind of summary vector. The z-decoder decodes the aggregated summary vector into the parameters of the latent variable $z$. And finally the decoder decodes an $x$ and a $z$ into the parameters of $p(f(x) | x, z)$."
   ]
  },
  {
   "cell_type": "code",
   "execution_count": 2,
   "metadata": {},
   "outputs": [],
   "source": [
    "class MnistEncoder(nn.Module):\n",
    "    def __init__(self, x_dim, y_dim, r_dim):\n",
    "        super().__init__()\n",
    "        \n",
    "        self.fc1 = nn.Linear(x_dim + y_dim, 8)\n",
    "        self.fc2 = nn.Linear(8, 16)\n",
    "        self.fc3 = nn.Linear(16, r_dim)\n",
    "        \n",
    "    def forward(self, x, y):\n",
    "        r = torch.cat([x, y], dim=1)\n",
    "        \n",
    "        r = F.relu(self.fc1(r))\n",
    "        r = F.relu(self.fc2(r))\n",
    "        r = self.fc3(r)\n",
    "        \n",
    "        return r"
   ]
  },
  {
   "cell_type": "code",
   "execution_count": 3,
   "metadata": {},
   "outputs": [],
   "source": [
    "class MnistZDecoder(nn.Module):\n",
    "    def __init__(self, r_dim, z_dim):\n",
    "        super().__init__()\n",
    "        \n",
    "        self.fc_mu = nn.Linear(r_dim, z_dim)\n",
    "        self.fc_sigma = nn.Linear(r_dim, z_dim)\n",
    "    \n",
    "    def forward(self, r):\n",
    "        return self.fc_mu(r), F.softplus(self.fc_sigma(r))"
   ]
  },
  {
   "cell_type": "code",
   "execution_count": 4,
   "metadata": {},
   "outputs": [],
   "source": [
    "class MnistDecoder(nn.Module):\n",
    "    def __init__(self, x_dim, z_dim, y_dim):\n",
    "        super().__init__()\n",
    "        \n",
    "        self.fc1 = nn.Linear(x_dim + z_dim, 32)\n",
    "        self.fc2 = nn.Linear(32, 32)\n",
    "        self.fc3 = nn.Linear(32, 32)\n",
    "        \n",
    "        self.fc_mu = nn.Linear(32, y_dim)\n",
    "        self.fc_sigma = nn.Linear(32, y_dim)\n",
    "    \n",
    "    def forward(self, x, z):\n",
    "        # Concatenate to a tensor of shape [len(x), len(z), x_dim + z_dim]\n",
    "        x = x.unsqueeze(0).expand(z.shape[0], -1, -1).transpose(0, 1)\n",
    "        z = z.unsqueeze(0).expand(x.shape[0], -1, -1)\n",
    "        y = torch.cat([x, z], dim=-1)\n",
    "        \n",
    "        y = F.relu(self.fc1(y))\n",
    "        y = F.relu(self.fc2(y))\n",
    "        y = F.relu(self.fc3(y))\n",
    "        \n",
    "        return self.fc_mu(y), F.softplus(self.fc_sigma(y))"
   ]
  },
  {
   "cell_type": "markdown",
   "metadata": {},
   "source": [
    "Here we load the train and test sets of MNIST and select a small subset of the test set to compute a running log-likelihood of an unseen dataset as a performance indicator."
   ]
  },
  {
   "cell_type": "code",
   "execution_count": 5,
   "metadata": {},
   "outputs": [],
   "source": [
    "transforms = torchvision.transforms.Compose(\n",
    "    [torchvision.transforms.ToTensor(),\n",
    "     torchvision.transforms.Normalize((0.1307,), (0.3081,)),\n",
    "     torchvision.transforms.Lambda(lambda im: im.reshape(-1, 1))])\n",
    "mnist_train = torchvision.datasets.MNIST(\"data\", train=True, download=True, transform=transforms)\n",
    "mnist_test = torchvision.datasets.MNIST(\"data\", train=False, download=True, transform=transforms)\n",
    "\n",
    "mnist_train_loader = torch.utils.data.DataLoader(mnist_train, batch_size=10, shuffle=True)\n",
    "\n",
    "n_pixels = int(np.prod(mnist_train[0][0].size()))\n",
    "\n",
    "# Select 10 of each digit for validation\n",
    "indices = [i * 1000 + j for i in range(10) for j in range(10)]\n",
    "validation_set = torch.utils.data.Subset(mnist_test, indices)\n",
    "\n",
    "# Create a constant selection of 50 pixels to observe for validation\n",
    "val_mask = torch.zeros(n_pixels, dtype=torch.uint8)\n",
    "val_mask[torch.randperm(n_pixels)[:50]] = 1"
   ]
  },
  {
   "cell_type": "markdown",
   "metadata": {},
   "source": [
    "Now we are ready to instantiate the process model"
   ]
  },
  {
   "cell_type": "code",
   "execution_count": 6,
   "metadata": {},
   "outputs": [],
   "source": [
    "x_dim = 2\n",
    "y_dim = 1\n",
    "r_dim = 32\n",
    "z_dim = 5\n",
    "encoder = MnistEncoder(x_dim, y_dim, r_dim)\n",
    "aggregator = lambda rs: torch.mean(rs, dim=0)\n",
    "z_decoder = MnistZDecoder(r_dim, z_dim)\n",
    "decoder = MnistDecoder(x_dim, z_dim, y_dim)\n",
    "mnist_np = NeuralProcess(encoder, aggregator, z_decoder, decoder)"
   ]
  },
  {
   "cell_type": "markdown",
   "metadata": {},
   "source": [
    "and define a helper function to show intermediate results every few batches."
   ]
  },
  {
   "cell_type": "code",
   "execution_count": 7,
   "metadata": {},
   "outputs": [],
   "source": [
    "def plot_completion(n_proc, img, x):\n",
    "    npoints = [10, 50, 250]\n",
    "    \n",
    "    # Normalize img to [0..1]\n",
    "    img = (img - img.min())\n",
    "    img = img / img.max()\n",
    "    \n",
    "    fig, axes = pp.subplots(3, len(npoints), squeeze=False)\n",
    "    \n",
    "    for i, n in enumerate(npoints):\n",
    "        mask = torch.zeros(n_pixels, dtype=torch.uint8)\n",
    "        mask[torch.randperm(n_pixels)[:n]] = 1\n",
    "\n",
    "        x_ctx = x[mask]\n",
    "        y_ctx = y[mask]\n",
    "\n",
    "        mu, sigma = mnist_np(x_ctx, y_ctx, x)\n",
    "        mask = mask.numpy().astype(np.bool)\n",
    "        \n",
    "        # Show observed points\n",
    "        masked_img = np.tile(img.clone().numpy()[:, :, np.newaxis], (1, 1, 3))\n",
    "        masked_img[~mask] = [0.0, 0.0, 0.5]\n",
    "        axes[0][i].imshow(masked_img.reshape(28, 28, 3))\n",
    "        \n",
    "        # Show the mean\n",
    "        mean_img = np.clip(np.tile(mu.detach().numpy(), (1, 1, 3)), 0, 1)\n",
    "        axes[1][i].imshow(mean_img.reshape(28, 28, 3))\n",
    "        \n",
    "        # Show the standard deviation\n",
    "        std_img = np.clip(np.tile(sigma.detach().numpy(), (1, 1, 3)), 0, 1)\n",
    "        axes[2][i].imshow(std_img.reshape(28, 28, 3))\n",
    "        \n",
    "        axes[0][i].set_title(\"{} observed points\".format(n))\n",
    "        for j in range(3):\n",
    "            axes[j][i].axis(\"off\")\n",
    "        \n",
    "    pp.show()"
   ]
  },
  {
   "cell_type": "markdown",
   "metadata": {},
   "source": [
    "Finally, we train the model by maximizing the ELBO over minibatches."
   ]
  },
  {
   "cell_type": "code",
   "execution_count": null,
   "metadata": {},
   "outputs": [
    {
     "name": "stdout",
     "output_type": "stream",
     "text": [
      "Epoch 1 Batch 1/6000: Loss 0.6957 - Val LLH -445.8404\n"
     ]
    },
    {
     "data": {
      "image/png": "[encoded data removed]",
      "text/plain": [
       "<Figure size 432x288 with 9 Axes>"
      ]
     },
     "metadata": {
      "needs_background": "light"
     },
     "output_type": "display_data"
    },
    {
     "name": "stdout",
     "output_type": "stream",
     "text": [
      "Epoch 1 Batch 3000/6000: Loss -0.8858 - Val LLH 471.0377\n"
     ]
    },
    {
     "data": {
      "image/png": "[encoded data removed]",
      "text/plain": [
       "<Figure size 432x288 with 9 Axes>"
      ]
     },
     "metadata": {
      "needs_background": "light"
     },
     "output_type": "display_data"
    },
    {
     "name": "stdout",
     "output_type": "stream",
     "text": [
      "Epoch 1 Batch 6000/6000: Loss -0.8475 - Val LLH 600.0186\n"
     ]
    },
    {
     "data": {
      "image/png": "[encoded data removed]",
      "text/plain": [
       "<Figure size 432x288 with 9 Axes>"
      ]
     },
     "metadata": {
      "needs_background": "light"
     },
     "output_type": "display_data"
    },
    {
     "name": "stdout",
     "output_type": "stream",
     "text": [
      "Epoch 2 Batch 3000/6000: Loss -0.9469 - Val LLH 613.0459\n"
     ]
    },
    {
     "data": {
      "image/png": "[encoded data removed]",
      "text/plain": [
       "<Figure size 432x288 with 9 Axes>"
      ]
     },
     "metadata": {
      "needs_background": "light"
     },
     "output_type": "display_data"
    },
    {
     "name": "stdout",
     "output_type": "stream",
     "text": [
      "Epoch 2 Batch 6000/6000: Loss -0.7273 - Val LLH 632.5504\n"
     ]
    },
    {
     "data": {
      "image/png": "[encoded data removed]",
      "text/plain": [
       "<Figure size 432x288 with 9 Axes>"
      ]
     },
     "metadata": {
      "needs_background": "light"
     },
     "output_type": "display_data"
    },
    {
     "name": "stdout",
     "output_type": "stream",
     "text": [
      "Epoch 3 Batch 3000/6000: Loss -1.1044 - Val LLH 711.5106\n"
     ]
    },
    {
     "data": {
      "image/png": "[encoded data removed]",
      "text/plain": [
       "<Figure size 432x288 with 9 Axes>"
      ]
     },
     "metadata": {
      "needs_background": "light"
     },
     "output_type": "display_data"
    }
   ],
   "source": [
    "mnist_np.train()\n",
    "optimizer = optim.Adam(mnist_np.parameters(), lr=0.0001)\n",
    "\n",
    "# Construct the image coordinate grid\n",
    "x = np.stack(np.meshgrid(np.linspace(-1.0, 1.0, 28), np.linspace(-1.0, 1.0, 28)), axis=2).reshape(-1, 2)\n",
    "x = torch.from_numpy(x).float()\n",
    "\n",
    "for epoch in range(10):\n",
    "    for batch, data in enumerate(mnist_train_loader):\n",
    "        optimizer.zero_grad()\n",
    "        \n",
    "        # Iterate over the minibatch\n",
    "        loss = 0.0\n",
    "        imgs, _ = data\n",
    "        for y in imgs:\n",
    "            # Select observed and target pixels at random\n",
    "            mask = torch.zeros(n_pixels, dtype=torch.uint8)\n",
    "            mask[torch.randperm(n_pixels)[:torch.randint(1, n_pixels, (1,), dtype=torch.long)]] = 1\n",
    "            \n",
    "            x_ctx = x[mask]\n",
    "            y_ctx = y[mask]\n",
    "            x_obs = x[~mask]\n",
    "            y_obs = y[~mask]\n",
    "            \n",
    "            loss += -mnist_np.elbo(x, y, x_ctx, y_ctx, x_obs, y_obs)\n",
    "        \n",
    "        # Take the mean over the minibatch\n",
    "        loss /= imgs.shape[0]\n",
    "        \n",
    "        loss.backward()\n",
    "        optimizer.step()\n",
    "        \n",
    "        if (epoch == 0 and batch == 0) or batch in [2999, 5999]:\n",
    "            val_llh = 0.0\n",
    "            for y, _ in validation_set:\n",
    "                x_ctx = x[val_mask]\n",
    "                y_ctx = y[val_mask]\n",
    "                x_obs = x[~val_mask]\n",
    "                y_obs = y[~val_mask]\n",
    "                mu, sigma = mnist_np(x_ctx, y_ctx, x_obs)\n",
    "                val_llh += log_likelihood(mu, sigma, y_obs).sum()\n",
    "            val_llh /= len(validation_set)\n",
    "            \n",
    "            print(\"Epoch {} Batch {}/{}: Loss {:.4f} - Val LLH {:.4f}\".format(\n",
    "                1 + epoch, 1 + batch, len(mnist_train_loader), loss, val_llh))\n",
    "            plot_index = int(np.random.randint(len(validation_set)))\n",
    "            plot_completion(mnist_np, validation_set[plot_index][0], x)\n",
    "            \n",
    "            torch.save(mnist_np.state_dict(), \"checkpoint-{}-{}.pth.tar\".format(epoch, batch))"
   ]
  },
  {
   "cell_type": "code",
   "execution_count": null,
   "metadata": {},
   "outputs": [],
   "source": [
    "# My kernel keeps dying so I reload the last checkpoint here\n",
    "# if os.path.isfile(\"checkpoint.pth.tar\"):\n",
    "#     mnist_np.load_state_dict(torch.load(\"checkpoint.pth.tar\"))"
   ]
  }
 ],
 "metadata": {
  "kernelspec": {
   "display_name": "Python 3",
   "language": "python",
   "name": "python3"
  },
  "language_info": {
   "codemirror_mode": {
    "name": "ipython",
    "version": 3
   },
   "file_extension": ".py",
   "mimetype": "text/x-python",
   "name": "python",
   "nbconvert_exporter": "python",
   "pygments_lexer": "ipython3",
   "version": "3.6.6"
  }
 },
 "nbformat": 4,
 "nbformat_minor": 2
}
